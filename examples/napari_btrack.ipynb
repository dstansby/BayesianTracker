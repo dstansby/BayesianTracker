{
 "cells": [
  {
   "cell_type": "markdown",
   "metadata": {},
   "source": [
    "# Using btrack with napari\n"
   ]
  },
  {
   "cell_type": "code",
   "execution_count": 1,
   "metadata": {},
   "outputs": [],
   "source": [
    "import btrack\n",
    "import napari"
   ]
  },
  {
   "cell_type": "code",
   "execution_count": 2,
   "metadata": {},
   "outputs": [
    {
     "name": "stdout",
     "output_type": "stream",
     "text": [
      "0.4.3\n"
     ]
    }
   ],
   "source": [
    "print(btrack.__version__)"
   ]
  },
  {
   "cell_type": "code",
   "execution_count": 3,
   "metadata": {},
   "outputs": [],
   "source": [
    "objects = btrack.dataio.import_CSV('napari_example.csv')\n",
    "# objects = btrack.dataio.import_CSV('../tests/_test_data/test_data.csv')"
   ]
  },
  {
   "cell_type": "code",
   "execution_count": 4,
   "metadata": {},
   "outputs": [
    {
     "data": {
      "text/html": [
       "<table border=\"1\" class=\"dataframe\">\n",
       "  <thead>\n",
       "    <tr style=\"text-align: right;\">\n",
       "      <th></th>\n",
       "      <th>ID</th>\n",
       "      <th>x</th>\n",
       "      <th>y</th>\n",
       "      <th>z</th>\n",
       "      <th>t</th>\n",
       "      <th>dummy</th>\n",
       "      <th>states</th>\n",
       "      <th>label</th>\n",
       "      <th>prob</th>\n",
       "    </tr>\n",
       "  </thead>\n",
       "  <tbody>\n",
       "    <tr>\n",
       "      <th>0</th>\n",
       "      <td>0</td>\n",
       "      <td>517.559509</td>\n",
       "      <td>9.081633</td>\n",
       "      <td>0.0</td>\n",
       "      <td>0</td>\n",
       "      <td>False</td>\n",
       "      <td>0</td>\n",
       "      <td>0</td>\n",
       "      <td>0.0</td>\n",
       "    </tr>\n",
       "  </tbody>\n",
       "</table>"
      ],
      "text/plain": [
       "{'ID': 0, 'x': 517.5595092773438, 'y': 9.081632614135742, 'z': 0.0, 't': 0, 'dummy': False, 'states': 0, 'label': 0, 'prob': 0.0}"
      ]
     },
     "execution_count": 4,
     "metadata": {},
     "output_type": "execute_result"
    }
   ],
   "source": [
    "objects[0]"
   ]
  },
  {
   "cell_type": "code",
   "execution_count": 5,
   "metadata": {},
   "outputs": [
    {
     "name": "stderr",
     "output_type": "stream",
     "text": [
      "[INFO][2022/02/17 09:37:34 AM] Loaded btrack: /Users/arl/Dropbox/Code/py3/BayesianTracker/btrack/libs/libtracker.dylib\n",
      "[WARNING][2022/02/17 09:37:34 AM] btrack (v0.4.3) shared library mismatch.\n",
      "[INFO][2022/02/17 09:37:34 AM] Setting max XYZ search radius to: 100\n",
      "[INFO][2022/02/17 09:37:34 AM] Starting BayesianTracker session\n",
      "[INFO][2022/02/17 09:37:34 AM] Loading configuration file: ../models/cell_config.json\n",
      "[INFO][2022/02/17 09:37:34 AM] Loading motion model: cell_motion\n",
      "[INFO][2022/02/17 09:37:34 AM] Objects are of type: <class 'list'>\n",
      "[INFO][2022/02/17 09:37:34 AM] Set volume to ((0, 1600), (0, 1200), (-100000.0, 100000.0))\n",
      "[INFO][2022/02/17 09:37:34 AM] Starting tracking... \n",
      "[INFO][2022/02/17 09:37:34 AM] Tracking objects in frames 0 to 99 (of 500)...\n",
      "[INFO][2022/02/17 09:37:34 AM]  - Timing (Bayesian updates: 0.94ms, Linking: 0.16ms)\n",
      "[INFO][2022/02/17 09:37:34 AM]  - Probabilities (Link: 1.00000, Lost: 0.49482)\n",
      "[INFO][2022/02/17 09:37:34 AM]  - Stats (Active: 78, Lost: 194, Conflicts resolved: 110)\n",
      "[INFO][2022/02/17 09:37:34 AM] Tracking objects in frames 100 to 199 (of 500)...\n"
     ]
    },
    {
     "name": "stdout",
     "output_type": "stream",
     "text": [
      "Instantiating BTRACK interface wrapper (v0.4.3, compiled Nov 25 2021 at 11:31:42)\n"
     ]
    },
    {
     "name": "stderr",
     "output_type": "stream",
     "text": [
      "[INFO][2022/02/17 09:37:35 AM]  - Timing (Bayesian updates: 1.11ms, Linking: 0.17ms)\n",
      "[INFO][2022/02/17 09:37:35 AM]  - Probabilities (Link: 1.00000, Lost: 0.60258)\n",
      "[INFO][2022/02/17 09:37:35 AM]  - Stats (Active: 83, Lost: 326, Conflicts resolved: 187)\n",
      "[INFO][2022/02/17 09:37:35 AM] Tracking objects in frames 200 to 299 (of 500)...\n",
      "[INFO][2022/02/17 09:37:35 AM]  - Timing (Bayesian updates: 2.09ms, Linking: 0.25ms)\n",
      "[INFO][2022/02/17 09:37:35 AM]  - Probabilities (Link: 1.00000, Lost: 0.27376)\n",
      "[INFO][2022/02/17 09:37:35 AM]  - Stats (Active: 113, Lost: 574, Conflicts resolved: 276)\n",
      "[INFO][2022/02/17 09:37:35 AM] Tracking objects in frames 300 to 399 (of 500)...\n",
      "[INFO][2022/02/17 09:37:35 AM]  - Timing (Bayesian updates: 3.38ms, Linking: 0.32ms)\n",
      "[INFO][2022/02/17 09:37:35 AM]  - Probabilities (Link: 0.99997, Lost: 0.99982)\n",
      "[INFO][2022/02/17 09:37:35 AM]  - Stats (Active: 140, Lost: 1001, Conflicts resolved: 401)\n",
      "[INFO][2022/02/17 09:37:35 AM] Tracking objects in frames 400 to 499 (of 500)...\n",
      "[INFO][2022/02/17 09:37:36 AM]  - Timing (Bayesian updates: 6.49ms, Linking: 0.41ms)\n",
      "[INFO][2022/02/17 09:37:36 AM]  - Probabilities (Link: 1.00000, Lost: 1.00000)\n",
      "[INFO][2022/02/17 09:37:36 AM] SUCCESS.\n",
      "[INFO][2022/02/17 09:37:36 AM]  - Found 507 tracks in 500 frames (in 0.0s)\n",
      "[INFO][2022/02/17 09:37:36 AM]  - Inserted 97 dummy objects to fill tracking gaps\n",
      "[INFO][2022/02/17 09:37:36 AM] Loading hypothesis model: cell_hypothesis\n",
      "[INFO][2022/02/17 09:37:36 AM] Calculating hypotheses (relax: True)...\n",
      "[INFO][2022/02/17 09:37:36 AM] Setting up constraints matrix for global optimisation...\n",
      "[INFO][2022/02/17 09:37:36 AM] Optimizing...\n",
      "[INFO][2022/02/17 09:37:36 AM] Optimization complete. (Solution: optimal)\n",
      "[INFO][2022/02/17 09:37:36 AM]  - Fates.FALSE_POSITIVE: 32 (of 507)\n",
      "[INFO][2022/02/17 09:37:36 AM]  - Fates.LINK: 98 (of 348)\n",
      "[INFO][2022/02/17 09:37:36 AM]  - Fates.DIVIDE: 110 (of 121)\n",
      "[INFO][2022/02/17 09:37:36 AM]  - Fates.APOPTOSIS: 1 (of 2)\n",
      "[INFO][2022/02/17 09:37:36 AM]  - Fates.INITIALIZE_BORDER: 53 (of 97)\n",
      "[INFO][2022/02/17 09:37:36 AM]  - Fates.INITIALIZE_FRONT: 70 (of 72)\n",
      "[INFO][2022/02/17 09:37:36 AM]  - Fates.INITIALIZE_LAZY: 34 (of 338)\n",
      "[INFO][2022/02/17 09:37:36 AM]  - Fates.TERMINATE_BORDER: 53 (of 91)\n",
      "[INFO][2022/02/17 09:37:36 AM]  - Fates.TERMINATE_BACK: 182 (of 185)\n",
      "[INFO][2022/02/17 09:37:36 AM]  - Fates.TERMINATE_LAZY: 31 (of 231)\n",
      "[INFO][2022/02/17 09:37:36 AM]  - TOTAL: 1992 hypotheses\n",
      "[INFO][2022/02/17 09:37:36 AM] Completed optimization with 409 tracks\n",
      "[INFO][2022/02/17 09:37:36 AM] Ending BayesianTracker session\n"
     ]
    },
    {
     "name": "stdout",
     "output_type": "stream",
     "text": [
      "GLPK Integer Optimizer, v4.65\n",
      "2028 rows, 1992 columns, 3089 non-zeros\n",
      "1992 integer variables, all of which are binary\n",
      "Preprocessing...\n",
      "1014 rows, 1992 columns, 3089 non-zeros\n",
      "1992 integer variables, all of which are binary\n",
      "Scaling...\n",
      " A: min|aij| =  1.000e+00  max|aij| =  1.000e+00  ratio =  1.000e+00\n",
      "Problem data seem to be well scaled\n",
      "Constructing initial basis...\n",
      "Size of triangular part is 1014\n",
      "Solving LP relaxation...\n",
      "GLPK Simplex Optimizer, v4.65\n",
      "1014 rows, 1992 columns, 3089 non-zeros\n",
      "*     0: obj =   4.053900533e+03 inf =   0.000e+00 (365)\n",
      "*   343: obj =   8.200734509e+02 inf =   0.000e+00 (0)\n",
      "OPTIMAL LP SOLUTION FOUND\n",
      "Integer optimization begins...\n",
      "Long-step dual simplex will be used\n",
      "+   343: mip =     not found yet >=              -inf        (1; 0)\n",
      "+   343: >>>>>   8.200734509e+02 >=   8.200734509e+02   0.0% (1; 0)\n",
      "+   343: mip =   8.200734509e+02 >=     tree is empty   0.0% (0; 1)\n",
      "INTEGER OPTIMAL SOLUTION FOUND\n",
      "Deleting BTRACK interface wrapper\n"
     ]
    }
   ],
   "source": [
    "# initialise a tracker session using a context manager\n",
    "with btrack.BayesianTracker() as tracker:\n",
    "\n",
    "    # configure the tracker using a config file\n",
    "    tracker.configure_from_file('../models/cell_config.json')\n",
    "\n",
    "    # append the objects to be tracked\n",
    "    tracker.append(objects)\n",
    "\n",
    "    # set the volume (Z axis volume is set very large for 2D data)\n",
    "    tracker.volume=((0,1600), (0,1200), (-1e5,1e5))\n",
    "\n",
    "    # track them (in interactive mode)\n",
    "    tracker.track_interactive(step_size=100)\n",
    "\n",
    "    # generate hypotheses and run the global optimizer\n",
    "    tracker.optimize()\n",
    "\n",
    "#     tracker.export('./test3.hdf5', obj_type='obj_type_1')\n",
    "\n",
    "    # get the tracks in a format for napari visualization\n",
    "    data, properties, graph = tracker.to_napari(ndim=2)"
   ]
  },
  {
   "cell_type": "code",
   "execution_count": 6,
   "metadata": {},
   "outputs": [
    {
     "data": {
      "text/plain": [
       "<Tracks layer 'tracks' at 0x142fe2a60>"
      ]
     },
     "execution_count": 6,
     "metadata": {},
     "output_type": "execute_result"
    }
   ],
   "source": [
    "# with napari.gui_qt():\n",
    "viewer = napari.Viewer()\n",
    "viewer.add_tracks(data, properties=properties, graph=graph, name='tracks')"
   ]
  },
  {
   "cell_type": "code",
   "execution_count": 8,
   "metadata": {},
   "outputs": [],
   "source": [
    "# graph"
   ]
  },
  {
   "cell_type": "code",
   "execution_count": null,
   "metadata": {},
   "outputs": [],
   "source": []
  }
 ],
 "metadata": {
  "kernelspec": {
   "display_name": "Python [conda env:napari]",
   "language": "python",
   "name": "conda-env-napari-py"
  },
  "language_info": {
   "codemirror_mode": {
    "name": "ipython",
    "version": 3
   },
   "file_extension": ".py",
   "mimetype": "text/x-python",
   "name": "python",
   "nbconvert_exporter": "python",
   "pygments_lexer": "ipython3",
   "version": "3.9.9"
  }
 },
 "nbformat": 4,
 "nbformat_minor": 1
}
